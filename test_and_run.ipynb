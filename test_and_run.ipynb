{
 "cells": [
  {
   "cell_type": "code",
   "execution_count": 1,
   "metadata": {
    "ExecuteTime": {
     "end_time": "2021-09-28T12:18:35.992202Z",
     "start_time": "2021-09-28T12:18:35.741488Z"
    }
   },
   "outputs": [],
   "source": [
    "import numpy as np\n",
    "from EarthProfile import *\n",
    "import matplotlib.pyplot as plt"
   ]
  },
  {
   "cell_type": "code",
   "execution_count": 2,
   "metadata": {
    "ExecuteTime": {
     "end_time": "2021-09-28T12:18:36.153878Z",
     "start_time": "2021-09-28T12:18:35.993449Z"
    }
   },
   "outputs": [
    {
     "name": "stdout",
     "output_type": "stream",
     "text": [
      "<rho_core>   = 1.11e-02 (kg/cm^3)\n",
      "<rho_mantle> = 4.48e-03 (kg/cm^3)\n",
      "ne / rho_core   = 2.77e+26 (1/kg)\n",
      "ne / rho_mantle = 2.97e+26 (1/kg)\n"
     ]
    }
   ],
   "source": [
    "\n",
    "irho_c, irho_m, mean_rho_core, mean_rho_mantle = get_irho()\n",
    "K_core,K_mantle,q,ER,n2rho_core,n2rho_mantle,ne2rho_core,ne2rho_mantle = get_K()"
   ]
  },
  {
   "cell_type": "code",
   "execution_count": 3,
   "metadata": {
    "ExecuteTime": {
     "end_time": "2021-09-28T12:18:36.436562Z",
     "start_time": "2021-09-28T12:18:36.286597Z"
    }
   },
   "outputs": [
    {
     "data": {
      "text/plain": [
       "<matplotlib.legend.Legend at 0x7fed737a29a0>"
      ]
     },
     "execution_count": 3,
     "metadata": {},
     "output_type": "execute_result"
    },
    {
     "data": {
      "image/png": "[encoded data removed]",
      "text/plain": [
       "<Figure size 432x288 with 1 Axes>"
      ]
     },
     "metadata": {
      "needs_background": "light"
     },
     "output_type": "display_data"
    }
   ],
   "source": [
    "lm = np.linspace(rCore,rEarth,100)\n",
    "plt.plot(lm,irho_m(lm)*mass_dict['O'][3]/(mass_dict['O'][0]*GeV2kg) ,label='O')\n",
    "plt.plot(lm,irho_m(lm)*mass_dict['Mg'][3]/(mass_dict['Mg'][0]*GeV2kg),label='Mg' )\n",
    "plt.plot(lm,irho_m(lm)*mass_dict['Si'][3]/(mass_dict['Si'][0]*GeV2kg),label='Si' )\n",
    "plt.legend()"
   ]
  },
  {
   "cell_type": "code",
   "execution_count": 4,
   "metadata": {
    "ExecuteTime": {
     "end_time": "2021-09-28T12:18:39.899874Z",
     "start_time": "2021-09-28T12:18:39.768832Z"
    }
   },
   "outputs": [
    {
     "data": {
      "text/plain": [
       "<matplotlib.legend.Legend at 0x7fed3eb17ca0>"
      ]
     },
     "execution_count": 4,
     "metadata": {},
     "output_type": "execute_result"
    },
    {
     "data": {
      "image/png": "[encoded data removed]",
      "text/plain": [
       "<Figure size 432x288 with 1 Axes>"
      ]
     },
     "metadata": {
      "needs_background": "light"
     },
     "output_type": "display_data"
    }
   ],
   "source": [
    "lc = np.linspace(0,rCore,100)\n",
    "plt.plot(lc,irho_c(lc)*mass_dict['Fe'][2]/(mass_dict['Fe'][0]*GeV2kg) ,label='Fe')\n",
    "plt.plot(lc,irho_c(lc)*mass_dict['Si'][2]/(mass_dict['Si'][0]*GeV2kg),label='Si' )\n",
    "plt.plot(lc,irho_c(lc)*mass_dict['Ni'][2]/(mass_dict['Ni'][0]*GeV2kg),label='Ni' )\n",
    "plt.legend()"
   ]
  },
  {
   "cell_type": "markdown",
   "metadata": {},
   "source": [
    "# Test Sampling"
   ]
  },
  {
   "cell_type": "code",
   "execution_count": 5,
   "metadata": {
    "ExecuteTime": {
     "end_time": "2021-09-28T11:37:53.551339Z",
     "start_time": "2021-09-28T11:37:48.748356Z"
    }
   },
   "outputs": [
    {
     "name": "stdout",
     "output_type": "stream",
     "text": [
      "ne / rho_core   = 2.77e+26 (1/kg)\n",
      "ne / rho_mantle = 2.97e+26 (1/kg)\n",
      "<rho_core>   = 1.11e-02 (kg/cm^3)\n",
      "<rho_mantle> = 4.48e-03 (kg/cm^3)\n",
      "<ne> * sige (core)                   = 3.06e-04 (1/cm)|\n",
      "<ne> * sige (mantle)                 = 1.33e-04 (1/cm)|\n",
      "v_min from min(ER)                   : 6.34e-04\n",
      "v_min hard cut                       : 1.00e-03\n",
      "Calculating \\int\\sig_{ion} ...\n",
      "(v=1e-1) \\sum <ni*sigi> (core)       = 2.96e-04 (1/cm)|\n",
      "(v=1e-1) \\sum <ni*sigi> (mantle)     = 1.30e-04 (1/cm)|\n"
     ]
    }
   ],
   "source": [
    "from realES import *\n",
    "import matplotlib.pyplot as plt\n",
    "import scipy.interpolate\n",
    "import io\n",
    "\n",
    "\n",
    "#5e7,1e-28,0.02,10\n",
    "input_vals = ('5e7,1e-28,0.01,10').split(',')\n",
    "\n",
    "mdm = float(input_vals[0])\n",
    "sige = float(input_vals[1])\n",
    "rawN = 2**25\n",
    "N = int(input_vals[3])\n",
    "v0 = float(input_vals[2])\n",
    "r_init = 6371.\n",
    "\n",
    "def init_sample(N,r):\n",
    "    stheta = np.random.rand(N)*2*np.pi\n",
    "    sr2 = np.random.rand(N)*r**2\n",
    "    sr = np.sqrt(sr2)\n",
    "    sx = sr*np.cos(stheta)\n",
    "    sy = sr*np.sin(stheta)\n",
    "    sz = -np.sqrt(r**2 - sx**2 - sy**2)\n",
    "    return sx,sy,sz\n",
    "\n",
    "sx,sy,sz = init_sample(N,r_init-1e-3)\n",
    "\n",
    "\n",
    "\n",
    "\n",
    "s = EarthEvents(mdm,sige)\n",
    "s.load_Ktot()\n",
    "s.calc_sum_ndsig2rho_v2dlnEdlnq(n=0)\n",
    "s.inSIG2rhos()\n"
   ]
  },
  {
   "cell_type": "code",
   "execution_count": 7,
   "metadata": {
    "ExecuteTime": {
     "end_time": "2021-09-28T11:38:36.730070Z",
     "start_time": "2021-09-28T11:38:36.111310Z"
    }
   },
   "outputs": [
    {
     "data": {
      "text/plain": [
       "(14950, 5410)"
      ]
     },
     "execution_count": 7,
     "metadata": {},
     "output_type": "execute_result"
    }
   ],
   "source": [
    "s.direct_sample(0.001,N=10000000)"
   ]
  },
  {
   "cell_type": "code",
   "execution_count": 8,
   "metadata": {
    "ExecuteTime": {
     "end_time": "2021-09-28T11:38:36.837625Z",
     "start_time": "2021-09-28T11:38:36.731262Z"
    }
   },
   "outputs": [
    {
     "name": "stdout",
     "output_type": "stream",
     "text": [
      "5410\n"
     ]
    },
    {
     "data": {
      "image/png": "[encoded data removed]",
      "text/plain": [
       "<Figure size 288x288 with 1 Axes>"
      ]
     },
     "metadata": {
      "needs_background": "light"
     },
     "output_type": "display_data"
    }
   ],
   "source": [
    "plt.figure(figsize=(4,4))\n",
    "print(len(s.ER_sample_mantle))\n",
    "plt.hist2d(np.log10(s.ER_sample_mantle),np.log10(s.q_sample_mantle),bins=50);\n",
    "plt.grid()"
   ]
  },
  {
   "cell_type": "markdown",
   "metadata": {},
   "source": [
    "# Velocity"
   ]
  },
  {
   "cell_type": "code",
   "execution_count": 19,
   "metadata": {
    "ExecuteTime": {
     "end_time": "2021-09-28T11:42:36.346393Z",
     "start_time": "2021-09-28T11:42:35.824315Z"
    }
   },
   "outputs": [
    {
     "data": {
      "image/png": "[encoded data removed]",
      "text/plain": [
       "<Figure size 432x288 with 1 Axes>"
      ]
     },
     "metadata": {
      "needs_background": "light"
     },
     "output_type": "display_data"
    }
   ],
   "source": [
    "plt.figure(figsize=(6,4))\n",
    "v = np.logspace(-20,np.log10(0.2),300)\n",
    "plt.gcf().subplots_adjust(bottom=0.2)\n",
    "plt.plot(v,s.insig2rho_mantle(v)/ne2rho_mantle/1e-28,label='mantle',color='k',lw=2)\n",
    "plt.plot(v,s.insig2rho_core(v)/ne2rho_core/1e-28,label='core',color='r',lw=2)\n",
    "plt.xlabel('$v_\\chi/c$',size=18)\n",
    "plt.title('$m_\\chi$ = %.0f MeV'%(s.mdm/1e6),size=18)\n",
    "plt.ylabel(r'$l_{\\rm fp}^{\\rm free}/l_{\\rm fp}^{\\rm ion}$',size=18)\n",
    "plt.legend(fontsize=12,loc=4)\n",
    "plt.grid(axis='y')\n",
    "plt.ylim(0,1.2)\n",
    "plt.xlim(1e-3,0.2)\n",
    "plt.xscale('log')\n",
    "plt.savefig('Sigma.pdf',bbox_inches='tight')"
   ]
  },
  {
   "cell_type": "markdown",
   "metadata": {},
   "source": [
    "# check h5py"
   ]
  },
  {
   "cell_type": "code",
   "execution_count": 15,
   "metadata": {
    "ExecuteTime": {
     "end_time": "2021-09-24T14:18:35.511741Z",
     "start_time": "2021-09-24T14:18:35.509781Z"
    }
   },
   "outputs": [],
   "source": [
    "import h5py\n",
    "import numpy as np\n",
    "import matplotlib.pyplot as plt"
   ]
  },
  {
   "cell_type": "code",
   "execution_count": 16,
   "metadata": {
    "ExecuteTime": {
     "end_time": "2021-09-24T14:18:36.367510Z",
     "start_time": "2021-09-24T14:18:35.820608Z"
    }
   },
   "outputs": [
    {
     "data": {
      "image/png": "[encoded data removed]",
      "text/plain": [
       "<Figure size 288x288 with 1 Axes>"
      ]
     },
     "metadata": {
      "needs_background": "light"
     },
     "output_type": "display_data"
    }
   ],
   "source": [
    "f = h5py.File('EarthAtomicResponse/Al_Ktot.hdf5','r')\n",
    "ER = np.array(f['ER'])\n",
    "q = np.array(f['q'])\n",
    "Ktot = np.array(f['Ktot'])\n",
    "ER_,q_ = np.meshgrid( ER,q,indexing='ij' )\n",
    "plt.figure(figsize=(4,4))\n",
    "plt.contourf(ER_,q_,Ktot)\n",
    "plt.yscale('log')\n",
    "plt.xscale('log')\n",
    "plt.xlabel('ER')\n",
    "plt.ylabel('q')\n",
    "f.close()"
   ]
  },
  {
   "cell_type": "code",
   "execution_count": 17,
   "metadata": {
    "ExecuteTime": {
     "end_time": "2021-09-24T14:18:37.182925Z",
     "start_time": "2021-09-24T14:18:37.171853Z"
    }
   },
   "outputs": [
    {
     "data": {
      "text/plain": [
       "(10, 11)"
      ]
     },
     "execution_count": 17,
     "metadata": {},
     "output_type": "execute_result"
    }
   ],
   "source": [
    "s.direct_sample(0.1)"
   ]
  },
  {
   "cell_type": "code",
   "execution_count": 18,
   "metadata": {
    "ExecuteTime": {
     "end_time": "2021-09-24T14:18:37.742445Z",
     "start_time": "2021-09-24T14:18:37.725336Z"
    }
   },
   "outputs": [],
   "source": [
    "mdm = 5e7\n",
    "v = 0.001\n",
    "\n",
    "insqrt = mdm**2*v**2 - 2*mdm*ER\n",
    "insqrt = np.where(insqrt<0.,0.,insqrt)\n",
    "qmin = mdm*v - np.sqrt(insqrt)\n",
    "qmax = mdm*v + np.sqrt(insqrt)\n",
    "#msk = (q[None,:]>qmin[:,None])*(q[None,:]<qmax[:,None])\n",
    "msk = ER_<(q_*v-q_**2/2/mdm)"
   ]
  },
  {
   "cell_type": "code",
   "execution_count": 19,
   "metadata": {
    "ExecuteTime": {
     "end_time": "2021-09-24T14:18:39.346167Z",
     "start_time": "2021-09-24T14:18:38.389807Z"
    }
   },
   "outputs": [
    {
     "name": "stderr",
     "output_type": "stream",
     "text": [
      "<ipython-input-19-141c5691ac01>:2: MatplotlibDeprecationWarning: shading='flat' when X and Y have the same dimensions as C is deprecated since 3.3.  Either specify the corners of the quadrilaterals with X and Y, or pass shading='auto', 'nearest' or 'gouraud', or set rcParams['pcolor.shading'].  This will become an error two minor releases later.\n",
      "  plt.pcolormesh(ER_,q_,K)\n"
     ]
    },
    {
     "data": {
      "text/plain": [
       "(3000.0, 200000.0)"
      ]
     },
     "execution_count": 19,
     "metadata": {},
     "output_type": "execute_result"
    },
    {
     "data": {
      "image/png": "[encoded data removed]",
      "text/plain": [
       "<Figure size 432x288 with 2 Axes>"
      ]
     },
     "metadata": {
      "needs_background": "light"
     },
     "output_type": "display_data"
    }
   ],
   "source": [
    "K = Ktot*ER[:,None]*q[None,:]*msk\n",
    "plt.pcolormesh(ER_,q_,K)\n",
    "plt.yscale('log')\n",
    "plt.xscale('log')\n",
    "#plt.xticks([mdm*v**2/2])\n",
    "plt.grid()\n",
    "plt.colorbar()\n",
    "plt.xlim(1e1,2e3)\n",
    "plt.ylim(3e3,2e5)"
   ]
  },
  {
   "cell_type": "code",
   "execution_count": null,
   "metadata": {},
   "outputs": [],
   "source": []
  }
 ],
 "metadata": {
  "kernelspec": {
   "display_name": "Python 3",
   "language": "python",
   "name": "python3"
  },
  "language_info": {
   "codemirror_mode": {
    "name": "ipython",
    "version": 3
   },
   "file_extension": ".py",
   "mimetype": "text/x-python",
   "name": "python",
   "nbconvert_exporter": "python",
   "pygments_lexer": "ipython3",
   "version": "3.8.10"
  }
 },
 "nbformat": 4,
 "nbformat_minor": 5
}
