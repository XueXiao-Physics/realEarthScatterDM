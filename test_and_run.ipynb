{
 "cells": [
  {
   "cell_type": "code",
   "execution_count": 13,
   "id": "proof-talent",
   "metadata": {},
   "outputs": [],
   "source": [
    "import numpy as np\n",
    "from EarthProfile import *\n",
    "import matplotlib.pyplot as plt"
   ]
  },
  {
   "cell_type": "code",
   "execution_count": 15,
   "id": "adolescent-sucking",
   "metadata": {},
   "outputs": [
    {
     "name": "stdout",
     "output_type": "stream",
     "text": [
      "<rho_core>   = 1.11e-02 (kg/cm^3)\n",
      "<rho_mantle> = 4.48e-03 (kg/cm^3)\n",
      "ne / rho_core   = 2.77e+26 (1/kg)\n",
      "ne / rho_mantle = 2.97e+26 (1/kg)\n"
     ]
    }
   ],
   "source": [
    "\n",
    "irho_c, irho_m, mean_rho_core, mean_rho_mantle = get_irho()\n",
    "K_core,K_mantle,q,ER,n2rho_core,n2rho_mantle,ne2rho_core,ne2rho_mantle = get_K()"
   ]
  },
  {
   "cell_type": "code",
   "execution_count": null,
   "id": "handed-blend",
   "metadata": {},
   "outputs": [],
   "source": [
    "lm = np.linspace(rCore,rEarth,100)\n",
    "plt.plot(lm,irho_m(lm)*mass_dict['O'][3]/(mass_dict['O'][0]*GeV2kg) ,label='O')\n",
    "plt.plot(lm,irho_m(lm)*mass_dict['Mg'][3]/(mass_dict['Mg'][0]*GeV2kg),label='Mg' )\n",
    "plt.plot(lm,irho_m(lm)*mass_dict['Si'][3]/(mass_dict['Si'][0]*GeV2kg),label='Si' )\n",
    "plt.legend()"
   ]
  },
  {
   "cell_type": "code",
   "execution_count": null,
   "id": "cathedral-skating",
   "metadata": {},
   "outputs": [],
   "source": [
    "lc = np.linspace(0,rCore,100)\n",
    "plt.plot(lc,irho_c(lc)*mass_dict['Fe'][2]/(mass_dict['Fe'][0]*GeV2kg) ,label='Fe')\n",
    "plt.plot(lc,irho_c(lc)*mass_dict['Si'][3]/(mass_dict['Si'][0]*GeV2kg),label='Si' )\n",
    "plt.plot(lc,irho_c(lc)*mass_dict['Ni'][3]/(mass_dict['Ni'][0]*GeV2kg),label='Ni' )\n",
    "plt.legend()"
   ]
  },
  {
   "cell_type": "markdown",
   "id": "political-cancer",
   "metadata": {},
   "source": [
    "# Test Sampling"
   ]
  },
  {
   "cell_type": "code",
   "execution_count": 7,
   "id": "greatest-freight",
   "metadata": {},
   "outputs": [
    {
     "name": "stdout",
     "output_type": "stream",
     "text": [
      "ne / rho_core   = 2.77e+26 (1/kg)\n",
      "ne / rho_mantle = 2.97e+26 (1/kg)\n",
      "<rho_core>   = 1.11e-02 (kg/cm^3)\n",
      "<rho_mantle> = 4.48e-03 (kg/cm^3)\n",
      "| <ne> * sige (core)                 = 3.06e-04 (1/cm)|\n",
      "| <ne> * sige (mantle)               = 1.33e-04 (1/cm)|\n",
      "| Calculating \\int\\sig_{ion} ...\n",
      "| (v=1e-1) \\sum <ni*sigi> (core)     = 2.98e-04 (1/cm)|\n",
      "| (v=1e-1) \\sum <ni*sigi> (mantle)   = 1.32e-04 (1/cm)|\n"
     ]
    }
   ],
   "source": [
    "from realES import *\n",
    "import matplotlib.pyplot as plt\n",
    "import scipy.interpolate\n",
    "import io\n",
    "\n",
    "\n",
    "#5e7,1e-28,0.02,10\n",
    "input_vals = ('5e7,1e-28,0.02,10').split(',')\n",
    "\n",
    "mdm = float(input_vals[0])\n",
    "sige = float(input_vals[1])\n",
    "rawN = 2**25\n",
    "N = int(input_vals[3])\n",
    "v0 = float(input_vals[2])\n",
    "r_init = 6371.\n",
    "\n",
    "def init_sample(N,r):\n",
    "    stheta = np.random.rand(N)*2*np.pi\n",
    "    sr2 = np.random.rand(N)*r**2\n",
    "    sr = np.sqrt(sr2)\n",
    "    sx = sr*np.cos(stheta)\n",
    "    sy = sr*np.sin(stheta)\n",
    "    sz = -np.sqrt(r**2 - sx**2 - sy**2)\n",
    "    return sx,sy,sz\n",
    "\n",
    "sx,sy,sz = init_sample(N,r_init-1e-3)\n",
    "\n",
    "\n",
    "\n",
    "\n",
    "s = EarthEvents(mdm,sige)\n",
    "s.load_Ktot()\n",
    "s.calc_sum_ndsig2rho_v2dlnEdlnq()\n",
    "s.cut_ndsigv2()\n",
    "s.inSIG2rhos()\n"
   ]
  },
  {
   "cell_type": "code",
   "execution_count": 8,
   "id": "extended-hospital",
   "metadata": {},
   "outputs": [],
   "source": [
    "s.direct_sample()"
   ]
  },
  {
   "cell_type": "code",
   "execution_count": 9,
   "id": "satellite-physics",
   "metadata": {},
   "outputs": [
    {
     "data": {
      "image/png": "[encoded data removed]",
      "text/plain": [
       "<Figure size 288x288 with 1 Axes>"
      ]
     },
     "metadata": {
      "needs_background": "light"
     },
     "output_type": "display_data"
    }
   ],
   "source": [
    "plt.figure(figsize=(4,4))\n",
    "plt.hist2d(np.log10(s.q_sample_mantle), np.log10(s.ER_sample_mantle),bins=500);\n"
   ]
  },
  {
   "cell_type": "markdown",
   "id": "knowing-framework",
   "metadata": {},
   "source": [
    "# Velocity"
   ]
  },
  {
   "cell_type": "code",
   "execution_count": 38,
   "id": "enhanced-variable",
   "metadata": {},
   "outputs": [
    {
     "data": {
      "image/png": "[encoded data removed]",
      "text/plain": [
       "<Figure size 432x288 with 1 Axes>"
      ]
     },
     "metadata": {
      "needs_background": "light"
     },
     "output_type": "display_data"
    }
   ],
   "source": [
    "v = np.linspace(1e-20,0.2,100)\n",
    "plt.gcf().subplots_adjust(bottom=0.2)\n",
    "plt.plot(v,s.insig2rho_mantle(v)/ne2rho_mantle/1e-28,label='mantle',color='k',lw=2)\n",
    "plt.plot(v,s.insig2rho_core(v)/ne2rho_core/1e-28,label='core',color='r',lw=2)\n",
    "plt.xlabel('$v_\\chi$',size=15)\n",
    "plt.title('$m_\\chi$=%.0f MeV'%(s.mdm/1e6),size=15)\n",
    "plt.ylabel(r'$\\sigma_{\\rm ion}/\\sigma_e$',size=15)\n",
    "plt.legend(fontsize=12,loc=4)\n",
    "plt.grid(axis='y')\n",
    "plt.ylim(0,1.2)\n",
    "plt.xlim(0,0.2)\n",
    "plt.savefig('Sigma.pdf')"
   ]
  },
  {
   "cell_type": "markdown",
   "id": "cheap-preservation",
   "metadata": {},
   "source": [
    "# check h5py"
   ]
  },
  {
   "cell_type": "code",
   "execution_count": null,
   "id": "allied-reservoir",
   "metadata": {},
   "outputs": [],
   "source": [
    "import h5py\n"
   ]
  },
  {
   "cell_type": "code",
   "execution_count": null,
   "id": "wired-participant",
   "metadata": {},
   "outputs": [],
   "source": [
    "f = h5py.File('EarthAtomicResponse/Al_Ktot.hdf5','r')\n",
    "ER,q = np.meshgrid( f['ER'],f['q'],indexing='ij' )\n",
    "plt.figure(figsize=(4,4))\n",
    "plt.contourf(ER,q,f['Ktot'])\n",
    "plt.yscale('log')\n",
    "plt.xscale('log')\n",
    "plt.xlabel('ER')\n",
    "plt.ylabel('q')\n",
    "f.close()"
   ]
  },
  {
   "cell_type": "code",
   "execution_count": null,
   "id": "primary-wallet",
   "metadata": {},
   "outputs": [],
   "source": []
  }
 ],
 "metadata": {
  "kernelspec": {
   "display_name": "Python 3",
   "language": "python",
   "name": "python3"
  },
  "language_info": {
   "codemirror_mode": {
    "name": "ipython",
    "version": 3
   },
   "file_extension": ".py",
   "mimetype": "text/x-python",
   "name": "python",
   "nbconvert_exporter": "python",
   "pygments_lexer": "ipython3",
   "version": "3.6.2"
  }
 },
 "nbformat": 4,
 "nbformat_minor": 5
}
